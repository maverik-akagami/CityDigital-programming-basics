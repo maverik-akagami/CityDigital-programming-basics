{
 "cells": [
  {
   "cell_type": "code",
   "execution_count": 1,
   "metadata": {
    "collapsed": true
   },
   "outputs": [],
   "source": [
    "import pandas as pd\n",
    "import matplotlib.pyplot as plt\n",
    "%matplotlib inline"
   ]
  },
  {
   "cell_type": "code",
   "execution_count": 2,
   "metadata": {
    "collapsed": true
   },
   "outputs": [],
   "source": [
    "ahu03 = pd.read_csv('AHU_03.csv')\n",
    "ahu03 = ahu03.ffill()"
   ]
  },
  {
   "cell_type": "code",
   "execution_count": 3,
   "metadata": {
    "collapsed": false
   },
   "outputs": [
    {
     "data": {
      "text/html": [
       "<div>\n",
       "<table border=\"1\" class=\"dataframe\">\n",
       "  <thead>\n",
       "    <tr style=\"text-align: right;\">\n",
       "      <th></th>\n",
       "      <th>Column1</th>\n",
       "      <th>Column2</th>\n",
       "      <th>Column3</th>\n",
       "      <th>Column4</th>\n",
       "      <th>Column5</th>\n",
       "      <th>Column6</th>\n",
       "      <th>Column7</th>\n",
       "      <th>Column8</th>\n",
       "      <th>Column9</th>\n",
       "      <th>Column10</th>\n",
       "      <th>Column11</th>\n",
       "      <th>Column12</th>\n",
       "      <th>Column13</th>\n",
       "      <th>Column14</th>\n",
       "      <th>Column15</th>\n",
       "    </tr>\n",
       "  </thead>\n",
       "  <tbody>\n",
       "    <tr>\n",
       "      <th>0</th>\n",
       "      <td>31-12-2015</td>\n",
       "      <td>00:00:00</td>\n",
       "      <td>ON</td>\n",
       "      <td>1.9</td>\n",
       "      <td>77.8</td>\n",
       "      <td>2.0</td>\n",
       "      <td>74.5</td>\n",
       "      <td>ON</td>\n",
       "      <td>75.1</td>\n",
       "      <td>20.0</td>\n",
       "      <td>75.1</td>\n",
       "      <td>77.73</td>\n",
       "      <td>15.0</td>\n",
       "      <td>77.9</td>\n",
       "      <td>15.0</td>\n",
       "    </tr>\n",
       "    <tr>\n",
       "      <th>1</th>\n",
       "      <td>31-12-2015</td>\n",
       "      <td>00:04:40</td>\n",
       "      <td>ON</td>\n",
       "      <td>1.9</td>\n",
       "      <td>77.8</td>\n",
       "      <td>2.0</td>\n",
       "      <td>74.5</td>\n",
       "      <td>ON</td>\n",
       "      <td>75.1</td>\n",
       "      <td>20.0</td>\n",
       "      <td>75.1</td>\n",
       "      <td>77.73</td>\n",
       "      <td>15.0</td>\n",
       "      <td>77.9</td>\n",
       "      <td>15.0</td>\n",
       "    </tr>\n",
       "    <tr>\n",
       "      <th>2</th>\n",
       "      <td>31-12-2015</td>\n",
       "      <td>00:04:52</td>\n",
       "      <td>ON</td>\n",
       "      <td>1.9</td>\n",
       "      <td>77.8</td>\n",
       "      <td>2.0</td>\n",
       "      <td>74.5</td>\n",
       "      <td>ON</td>\n",
       "      <td>75.1</td>\n",
       "      <td>20.0</td>\n",
       "      <td>75.1</td>\n",
       "      <td>77.73</td>\n",
       "      <td>15.0</td>\n",
       "      <td>77.9</td>\n",
       "      <td>15.0</td>\n",
       "    </tr>\n",
       "    <tr>\n",
       "      <th>3</th>\n",
       "      <td>31-12-2015</td>\n",
       "      <td>00:05:12</td>\n",
       "      <td>ON</td>\n",
       "      <td>1.9</td>\n",
       "      <td>77.8</td>\n",
       "      <td>2.0</td>\n",
       "      <td>74.5</td>\n",
       "      <td>ON</td>\n",
       "      <td>75.1</td>\n",
       "      <td>20.0</td>\n",
       "      <td>75.1</td>\n",
       "      <td>77.73</td>\n",
       "      <td>15.0</td>\n",
       "      <td>77.9</td>\n",
       "      <td>15.0</td>\n",
       "    </tr>\n",
       "    <tr>\n",
       "      <th>4</th>\n",
       "      <td>31-12-2015</td>\n",
       "      <td>00:05:27</td>\n",
       "      <td>ON</td>\n",
       "      <td>1.9</td>\n",
       "      <td>77.8</td>\n",
       "      <td>2.0</td>\n",
       "      <td>74.5</td>\n",
       "      <td>ON</td>\n",
       "      <td>75.1</td>\n",
       "      <td>20.0</td>\n",
       "      <td>75.1</td>\n",
       "      <td>77.73</td>\n",
       "      <td>15.0</td>\n",
       "      <td>77.9</td>\n",
       "      <td>15.0</td>\n",
       "    </tr>\n",
       "  </tbody>\n",
       "</table>\n",
       "</div>"
      ],
      "text/plain": [
       "      Column1   Column2 Column3  Column4  Column5  Column6  Column7 Column8  \\\n",
       "0  31-12-2015  00:00:00      ON      1.9     77.8      2.0     74.5      ON   \n",
       "1  31-12-2015  00:04:40      ON      1.9     77.8      2.0     74.5      ON   \n",
       "2  31-12-2015  00:04:52      ON      1.9     77.8      2.0     74.5      ON   \n",
       "3  31-12-2015  00:05:12      ON      1.9     77.8      2.0     74.5      ON   \n",
       "4  31-12-2015  00:05:27      ON      1.9     77.8      2.0     74.5      ON   \n",
       "\n",
       "   Column9  Column10  Column11  Column12  Column13  Column14  Column15  \n",
       "0     75.1      20.0      75.1     77.73      15.0      77.9      15.0  \n",
       "1     75.1      20.0      75.1     77.73      15.0      77.9      15.0  \n",
       "2     75.1      20.0      75.1     77.73      15.0      77.9      15.0  \n",
       "3     75.1      20.0      75.1     77.73      15.0      77.9      15.0  \n",
       "4     75.1      20.0      75.1     77.73      15.0      77.9      15.0  "
      ]
     },
     "execution_count": 3,
     "metadata": {},
     "output_type": "execute_result"
    }
   ],
   "source": [
    "ahu03.head()"
   ]
  },
  {
   "cell_type": "code",
   "execution_count": 4,
   "metadata": {
    "collapsed": false
   },
   "outputs": [],
   "source": [
    "ahu03.rename(columns={'Column1':'Date','Column2':'Time','Column3':'supply fan status','Column4':'Cooling coil valve %'},inplace=1)\n",
    "ahu03.rename(columns={'Column5':'Discharger temp','Column6':'Mixed air damper %','Column7':'Mixed air temp'},inplace=1)\n",
    "ahu03.rename(columns={'Column8':'Minimum outside air damper %','Column9':'Pre-heat coil discharger temp','Column10':'Pre-heat valve %'},inplace=1)\n",
    "ahu03.rename(columns={'Column11':'Return air temp','Column12':'re-heat coil 1 Discharger temp','Column13':'re-heat coil 1 Discharger valve'},inplace=1)\n",
    "ahu03.rename(columns={'Column14':'re-heat coil 2 Discharger temp','Column15':'re-heat coil 2 Discharger valve'},inplace=1)"
   ]
  },
  {
   "cell_type": "code",
   "execution_count": 5,
   "metadata": {
    "collapsed": false
   },
   "outputs": [
    {
     "data": {
      "text/html": [
       "<div>\n",
       "<table border=\"1\" class=\"dataframe\">\n",
       "  <thead>\n",
       "    <tr style=\"text-align: right;\">\n",
       "      <th></th>\n",
       "      <th>Date</th>\n",
       "      <th>Time</th>\n",
       "      <th>supply fan status</th>\n",
       "      <th>Cooling coil valve %</th>\n",
       "      <th>Discharger temp</th>\n",
       "      <th>Mixed air damper %</th>\n",
       "      <th>Mixed air temp</th>\n",
       "      <th>Minimum outside air damper %</th>\n",
       "      <th>Pre-heat coil discharger temp</th>\n",
       "      <th>Pre-heat valve %</th>\n",
       "      <th>Return air temp</th>\n",
       "      <th>re-heat coil 1 Discharger temp</th>\n",
       "      <th>re-heat coil 1 Discharger valve</th>\n",
       "      <th>re-heat coil 2 Discharger temp</th>\n",
       "      <th>re-heat coil 2 Discharger valve</th>\n",
       "    </tr>\n",
       "  </thead>\n",
       "  <tbody>\n",
       "    <tr>\n",
       "      <th>0</th>\n",
       "      <td>31-12-2015</td>\n",
       "      <td>00:00:00</td>\n",
       "      <td>ON</td>\n",
       "      <td>1.9</td>\n",
       "      <td>77.8</td>\n",
       "      <td>2.0</td>\n",
       "      <td>74.5</td>\n",
       "      <td>ON</td>\n",
       "      <td>75.1</td>\n",
       "      <td>20.0</td>\n",
       "      <td>75.1</td>\n",
       "      <td>77.73</td>\n",
       "      <td>15.0</td>\n",
       "      <td>77.9</td>\n",
       "      <td>15.0</td>\n",
       "    </tr>\n",
       "    <tr>\n",
       "      <th>1</th>\n",
       "      <td>31-12-2015</td>\n",
       "      <td>00:04:40</td>\n",
       "      <td>ON</td>\n",
       "      <td>1.9</td>\n",
       "      <td>77.8</td>\n",
       "      <td>2.0</td>\n",
       "      <td>74.5</td>\n",
       "      <td>ON</td>\n",
       "      <td>75.1</td>\n",
       "      <td>20.0</td>\n",
       "      <td>75.1</td>\n",
       "      <td>77.73</td>\n",
       "      <td>15.0</td>\n",
       "      <td>77.9</td>\n",
       "      <td>15.0</td>\n",
       "    </tr>\n",
       "    <tr>\n",
       "      <th>2</th>\n",
       "      <td>31-12-2015</td>\n",
       "      <td>00:04:52</td>\n",
       "      <td>ON</td>\n",
       "      <td>1.9</td>\n",
       "      <td>77.8</td>\n",
       "      <td>2.0</td>\n",
       "      <td>74.5</td>\n",
       "      <td>ON</td>\n",
       "      <td>75.1</td>\n",
       "      <td>20.0</td>\n",
       "      <td>75.1</td>\n",
       "      <td>77.73</td>\n",
       "      <td>15.0</td>\n",
       "      <td>77.9</td>\n",
       "      <td>15.0</td>\n",
       "    </tr>\n",
       "    <tr>\n",
       "      <th>3</th>\n",
       "      <td>31-12-2015</td>\n",
       "      <td>00:05:12</td>\n",
       "      <td>ON</td>\n",
       "      <td>1.9</td>\n",
       "      <td>77.8</td>\n",
       "      <td>2.0</td>\n",
       "      <td>74.5</td>\n",
       "      <td>ON</td>\n",
       "      <td>75.1</td>\n",
       "      <td>20.0</td>\n",
       "      <td>75.1</td>\n",
       "      <td>77.73</td>\n",
       "      <td>15.0</td>\n",
       "      <td>77.9</td>\n",
       "      <td>15.0</td>\n",
       "    </tr>\n",
       "    <tr>\n",
       "      <th>4</th>\n",
       "      <td>31-12-2015</td>\n",
       "      <td>00:05:27</td>\n",
       "      <td>ON</td>\n",
       "      <td>1.9</td>\n",
       "      <td>77.8</td>\n",
       "      <td>2.0</td>\n",
       "      <td>74.5</td>\n",
       "      <td>ON</td>\n",
       "      <td>75.1</td>\n",
       "      <td>20.0</td>\n",
       "      <td>75.1</td>\n",
       "      <td>77.73</td>\n",
       "      <td>15.0</td>\n",
       "      <td>77.9</td>\n",
       "      <td>15.0</td>\n",
       "    </tr>\n",
       "  </tbody>\n",
       "</table>\n",
       "</div>"
      ],
      "text/plain": [
       "         Date      Time supply fan status  Cooling coil valve %  \\\n",
       "0  31-12-2015  00:00:00                ON                   1.9   \n",
       "1  31-12-2015  00:04:40                ON                   1.9   \n",
       "2  31-12-2015  00:04:52                ON                   1.9   \n",
       "3  31-12-2015  00:05:12                ON                   1.9   \n",
       "4  31-12-2015  00:05:27                ON                   1.9   \n",
       "\n",
       "   Discharger temp  Mixed air damper %  Mixed air temp  \\\n",
       "0             77.8                 2.0            74.5   \n",
       "1             77.8                 2.0            74.5   \n",
       "2             77.8                 2.0            74.5   \n",
       "3             77.8                 2.0            74.5   \n",
       "4             77.8                 2.0            74.5   \n",
       "\n",
       "  Minimum outside air damper %  Pre-heat coil discharger temp  \\\n",
       "0                           ON                           75.1   \n",
       "1                           ON                           75.1   \n",
       "2                           ON                           75.1   \n",
       "3                           ON                           75.1   \n",
       "4                           ON                           75.1   \n",
       "\n",
       "   Pre-heat valve %  Return air temp  re-heat coil 1 Discharger temp  \\\n",
       "0              20.0             75.1                           77.73   \n",
       "1              20.0             75.1                           77.73   \n",
       "2              20.0             75.1                           77.73   \n",
       "3              20.0             75.1                           77.73   \n",
       "4              20.0             75.1                           77.73   \n",
       "\n",
       "   re-heat coil 1 Discharger valve  re-heat coil 2 Discharger temp  \\\n",
       "0                             15.0                            77.9   \n",
       "1                             15.0                            77.9   \n",
       "2                             15.0                            77.9   \n",
       "3                             15.0                            77.9   \n",
       "4                             15.0                            77.9   \n",
       "\n",
       "   re-heat coil 2 Discharger valve  \n",
       "0                             15.0  \n",
       "1                             15.0  \n",
       "2                             15.0  \n",
       "3                             15.0  \n",
       "4                             15.0  "
      ]
     },
     "execution_count": 5,
     "metadata": {},
     "output_type": "execute_result"
    }
   ],
   "source": [
    "ahu03.head()"
   ]
  },
  {
   "cell_type": "code",
   "execution_count": 9,
   "metadata": {
    "collapsed": false
   },
   "outputs": [
    {
     "data": {
      "image/png": "[encoded data removed]",
      "text/plain": [
       "<matplotlib.figure.Figure at 0x43f2358>"
      ]
     },
     "metadata": {},
     "output_type": "display_data"
    }
   ],
   "source": [
    "data=[ahu03['Cooling coil valve %'],ahu03['Mixed air damper %'],ahu03['Pre-heat valve %'],\n",
    "      ahu03['re-heat coil 1 Discharger valve'],ahu03['re-heat coil 2 Discharger valve']]\n",
    "sup_on = ahu03[ahu03['supply fan status'].str.contains('ON')]\n",
    "sup_off = ahu03[ahu03['supply fan status'].str.contains('OFF')]\n",
    "data_percent_1 = [sup_on['Cooling coil valve %'],sup_on['Mixed air damper %'],sup_on['Pre-heat valve %'],\n",
    "                  sup_on['re-heat coil 1 Discharger valve'],sup_on['re-heat coil 2 Discharger valve']]\n",
    "data_percent_2 = [sup_off['Cooling coil valve %'],sup_off['Mixed air damper %'],sup_off['Pre-heat valve %'],\n",
    "                  sup_off['re-heat coil 1 Discharger valve'],sup_off['re-heat coil 2 Discharger valve']]\n",
    "\n",
    "#fig, ax = plt.subplots( nrows=1, ncols=1 )\n",
    "f, (ax1,ax2,ax3) = plt.subplots(1,3,sharey = True)\n",
    "ax1.boxplot(data)\n",
    "ax2.boxplot(data_percent_1)\n",
    "ax3.boxplot(data_percent_2)\n",
    "ax1.set_title(\"Values plot\")\n",
    "ax2.set_title('Values plot Sup ON')\n",
    "ax3.set_title('Values plot Sup OFF')\n",
    "plt.savefig(''.join(['values%','_ahu_03']))\n"
   ]
  },
  {
   "cell_type": "code",
   "execution_count": 28,
   "metadata": {
    "collapsed": false
   },
   "outputs": [
    {
     "data": {
      "image/png": "[encoded data removed]",
      "text/plain": [
       "<matplotlib.figure.Figure at 0xc725ef0>"
      ]
     },
     "metadata": {},
     "output_type": "display_data"
    }
   ],
   "source": [
    "\n",
    "\n",
    "#plt.show()\n",
    "plt.savefig(''.join(['value_sup_on','ahu_03']))"
   ]
  },
  {
   "cell_type": "code",
   "execution_count": 11,
   "metadata": {
    "collapsed": false
   },
   "outputs": [
    {
     "data": {
      "image/png": "[encoded data removed]",
      "text/plain": [
       "<matplotlib.figure.Figure at 0x108141d0>"
      ]
     },
     "metadata": {},
     "output_type": "display_data"
    }
   ],
   "source": [
    "data1=[ahu03['Discharger temp'],ahu03['Mixed air temp'],ahu03['Pre-heat coil discharger temp'],\n",
    "       ahu03['Return air temp'],ahu03['re-heat coil 1 Discharger temp'],ahu03['re-heat coil 2 Discharger temp']]\n",
    "data_temp_sup = [sup_on['Discharger temp'],sup_on['Mixed air temp'],sup_on['Pre-heat coil discharger temp']\n",
    "                ,sup_on['Return air temp'],sup_on['re-heat coil 1 Discharger temp'],sup_on['re-heat coil 2 Discharger temp']]\n",
    "data_temp_sup_1 = [sup_off['Discharger temp'],sup_off['Mixed air temp'],sup_off['Pre-heat coil discharger temp']\n",
    "                ,sup_off['Return air temp'],sup_off['re-heat coil 1 Discharger temp'],sup_off['re-heat coil 2 Discharger temp']]\n",
    "f, (ax1,ax2,ax3) = plt.subplots(1,3,sharey=True)\n",
    "ax1.boxplot(data1)\n",
    "ax2.boxplot(data_temp_sup)\n",
    "ax3.boxplot(data_temp_sup_1)\n",
    "ax1.set_title('Temp plot')\n",
    "ax2.set_title('Temp plot sup on')\n",
    "ax3.set_title('Temp plot sup off')\n",
    "#plt.show()\n",
    "plt.savefig(''.join(['temperature','_ahu_03']))"
   ]
  },
  {
   "cell_type": "code",
   "execution_count": 29,
   "metadata": {
    "collapsed": false
   },
   "outputs": [
    {
     "data": {
      "image/png": "[encoded data removed]",
      "text/plain": [
       "<matplotlib.figure.Figure at 0xc725b38>"
      ]
     },
     "metadata": {},
     "output_type": "display_data"
    }
   ],
   "source": []
  },
  {
   "cell_type": "code",
   "execution_count": 18,
   "metadata": {
    "collapsed": false
   },
   "outputs": [
    {
     "name": "stdout",
     "output_type": "stream",
     "text": [
      "['Date' 'Time' 'supply fan status' 'Cooling coil valve %' 'Discharger temp'\n",
      " 'Mixed air damper %' 'Mixed air temp' 'Minimum outside air damper %'\n",
      " 'Pre-heat coil discharger temp' 'Pre-heat valve %' 'Return air temp'\n",
      " 're-heat coil 1 Discharger temp' 're-heat coil 1 Discharger valve'\n",
      " 're-heat coil 2 Discharger temp' 're-heat coil 2 Discharger valve']\n",
      "['Cooling coil valve %' 'Discharger temp' 'Mixed air damper %'\n",
      " 'Mixed air temp' 'Pre-heat coil discharger temp' 'Pre-heat valve %'\n",
      " 'Return air temp' 're-heat coil 1 Discharger temp'\n",
      " 're-heat coil 1 Discharger valve' 're-heat coil 2 Discharger temp'\n",
      " 're-heat coil 2 Discharger valve']\n"
     ]
    }
   ],
   "source": [
    "df1=ahu03.copy()\n",
    "print ahu03.columns.values\n",
    "df1 = df1.drop(['Date','Time','supply fan status','Minimum outside air damper %'],1)\n",
    "print df1.columns.values"
   ]
  },
  {
   "cell_type": "code",
   "execution_count": null,
   "metadata": {
    "collapsed": false
   },
   "outputs": [],
   "source": [
    "df = pd.scatter_matrix(df1,alpha=0.2,figsize=(25,25),diagonal='kde')\n",
    "plt.savefig(''.join(['bivariate','_ahu_03']))"
   ]
  },
  {
   "cell_type": "code",
   "execution_count": null,
   "metadata": {
    "collapsed": true
   },
   "outputs": [],
   "source": []
  }
 ],
 "metadata": {
  "kernelspec": {
   "display_name": "Python 2",
   "language": "python",
   "name": "python2"
  },
  "language_info": {
   "codemirror_mode": {
    "name": "ipython",
    "version": 2
   },
   "file_extension": ".py",
   "mimetype": "text/x-python",
   "name": "python",
   "nbconvert_exporter": "python",
   "pygments_lexer": "ipython2",
   "version": "2.7.12"
  }
 },
 "nbformat": 4,
 "nbformat_minor": 0
}
