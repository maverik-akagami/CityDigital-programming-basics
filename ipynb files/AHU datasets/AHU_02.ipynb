{
 "cells": [
  {
   "cell_type": "code",
   "execution_count": 1,
   "metadata": {
    "collapsed": true
   },
   "outputs": [],
   "source": [
    "import pandas as pd\n",
    "import matplotlib.pyplot as plt\n",
    "%matplotlib inline"
   ]
  },
  {
   "cell_type": "code",
   "execution_count": 2,
   "metadata": {
    "collapsed": true
   },
   "outputs": [],
   "source": [
    "ahu02 = pd.read_csv('AHU_02.csv')\n",
    "ahu02 = ahu02.ffill()"
   ]
  },
  {
   "cell_type": "code",
   "execution_count": 3,
   "metadata": {
    "collapsed": false
   },
   "outputs": [
    {
     "data": {
      "text/html": [
       "<div>\n",
       "<table border=\"1\" class=\"dataframe\">\n",
       "  <thead>\n",
       "    <tr style=\"text-align: right;\">\n",
       "      <th></th>\n",
       "      <th>Column1</th>\n",
       "      <th>Column2</th>\n",
       "      <th>Column3</th>\n",
       "      <th>Column4</th>\n",
       "      <th>Column5</th>\n",
       "      <th>Column6</th>\n",
       "      <th>Column7</th>\n",
       "      <th>Column8</th>\n",
       "      <th>Column9</th>\n",
       "      <th>Column10</th>\n",
       "      <th>Column11</th>\n",
       "      <th>Column12</th>\n",
       "      <th>Column13</th>\n",
       "      <th>Column14</th>\n",
       "    </tr>\n",
       "  </thead>\n",
       "  <tbody>\n",
       "    <tr>\n",
       "      <th>0</th>\n",
       "      <td>31-12-2015</td>\n",
       "      <td>00:00:00</td>\n",
       "      <td>OFF</td>\n",
       "      <td>1.9</td>\n",
       "      <td>74.5</td>\n",
       "      <td>ON</td>\n",
       "      <td>2.0</td>\n",
       "      <td>75.3</td>\n",
       "      <td>75.2</td>\n",
       "      <td>15.0</td>\n",
       "      <td>16.0</td>\n",
       "      <td>20.0</td>\n",
       "      <td>74.3</td>\n",
       "      <td>74.6</td>\n",
       "    </tr>\n",
       "    <tr>\n",
       "      <th>1</th>\n",
       "      <td>31-12-2015</td>\n",
       "      <td>00:09:49</td>\n",
       "      <td>OFF</td>\n",
       "      <td>1.9</td>\n",
       "      <td>74.5</td>\n",
       "      <td>ON</td>\n",
       "      <td>2.0</td>\n",
       "      <td>75.3</td>\n",
       "      <td>75.2</td>\n",
       "      <td>15.0</td>\n",
       "      <td>16.0</td>\n",
       "      <td>20.0</td>\n",
       "      <td>74.3</td>\n",
       "      <td>74.6</td>\n",
       "    </tr>\n",
       "    <tr>\n",
       "      <th>2</th>\n",
       "      <td>31-12-2015</td>\n",
       "      <td>00:10:03</td>\n",
       "      <td>OFF</td>\n",
       "      <td>1.9</td>\n",
       "      <td>74.5</td>\n",
       "      <td>ON</td>\n",
       "      <td>2.0</td>\n",
       "      <td>75.3</td>\n",
       "      <td>75.2</td>\n",
       "      <td>15.0</td>\n",
       "      <td>16.0</td>\n",
       "      <td>20.0</td>\n",
       "      <td>74.3</td>\n",
       "      <td>74.6</td>\n",
       "    </tr>\n",
       "    <tr>\n",
       "      <th>3</th>\n",
       "      <td>31-12-2015</td>\n",
       "      <td>00:10:28</td>\n",
       "      <td>OFF</td>\n",
       "      <td>1.9</td>\n",
       "      <td>74.5</td>\n",
       "      <td>ON</td>\n",
       "      <td>2.0</td>\n",
       "      <td>75.3</td>\n",
       "      <td>75.2</td>\n",
       "      <td>15.0</td>\n",
       "      <td>16.0</td>\n",
       "      <td>20.0</td>\n",
       "      <td>74.3</td>\n",
       "      <td>74.6</td>\n",
       "    </tr>\n",
       "    <tr>\n",
       "      <th>4</th>\n",
       "      <td>31-12-2015</td>\n",
       "      <td>00:10:52</td>\n",
       "      <td>OFF</td>\n",
       "      <td>1.9</td>\n",
       "      <td>74.5</td>\n",
       "      <td>ON</td>\n",
       "      <td>2.0</td>\n",
       "      <td>75.3</td>\n",
       "      <td>75.2</td>\n",
       "      <td>15.0</td>\n",
       "      <td>16.0</td>\n",
       "      <td>20.0</td>\n",
       "      <td>74.3</td>\n",
       "      <td>74.6</td>\n",
       "    </tr>\n",
       "  </tbody>\n",
       "</table>\n",
       "</div>"
      ],
      "text/plain": [
       "      Column1   Column2 Column3  Column4  Column5 Column6  Column7  Column8  \\\n",
       "0  31-12-2015  00:00:00     OFF      1.9     74.5      ON      2.0     75.3   \n",
       "1  31-12-2015  00:09:49     OFF      1.9     74.5      ON      2.0     75.3   \n",
       "2  31-12-2015  00:10:03     OFF      1.9     74.5      ON      2.0     75.3   \n",
       "3  31-12-2015  00:10:28     OFF      1.9     74.5      ON      2.0     75.3   \n",
       "4  31-12-2015  00:10:52     OFF      1.9     74.5      ON      2.0     75.3   \n",
       "\n",
       "   Column9  Column10  Column11  Column12  Column13  Column14  \n",
       "0     75.2      15.0      16.0      20.0      74.3      74.6  \n",
       "1     75.2      15.0      16.0      20.0      74.3      74.6  \n",
       "2     75.2      15.0      16.0      20.0      74.3      74.6  \n",
       "3     75.2      15.0      16.0      20.0      74.3      74.6  \n",
       "4     75.2      15.0      16.0      20.0      74.3      74.6  "
      ]
     },
     "execution_count": 3,
     "metadata": {},
     "output_type": "execute_result"
    }
   ],
   "source": [
    "ahu02.head()"
   ]
  },
  {
   "cell_type": "code",
   "execution_count": 4,
   "metadata": {
    "collapsed": false
   },
   "outputs": [],
   "source": [
    "ahu02.rename(columns={'Column1':'Date', 'Column2':'Time','Column3':'supply fan status','Column4':'Cooling coil valve %'},inplace = 1)\n",
    "ahu02.rename(columns={'Column5':'Discharger temp','Column6':'exhaust fan status','Column7':'Mixed air damper %'},inplace=1)\n",
    "ahu02.rename(columns={'Column8':'Mixed air temp','Column9':'heating coil discharger temp','Column10':'Pre-heat valve %'},inplace=1)\n",
    "ahu02.rename(columns={'Column11':'re-heat coil valve 1 %','Column12':'re-heat coil valve 2 %','Column13':'re-heat coil 1 Discharger temp'},inplace=1)\n",
    "ahu02.rename(columns={'Column14':'re-heat coil 2 Discharger temp'},inplace=1)"
   ]
  },
  {
   "cell_type": "code",
   "execution_count": 5,
   "metadata": {
    "collapsed": false
   },
   "outputs": [
    {
     "data": {
      "text/html": [
       "<div>\n",
       "<table border=\"1\" class=\"dataframe\">\n",
       "  <thead>\n",
       "    <tr style=\"text-align: right;\">\n",
       "      <th></th>\n",
       "      <th>Date</th>\n",
       "      <th>Time</th>\n",
       "      <th>supply fan status</th>\n",
       "      <th>Cooling coil valve %</th>\n",
       "      <th>Discharger temp</th>\n",
       "      <th>exhaust fan status</th>\n",
       "      <th>Mixed air damper %</th>\n",
       "      <th>Mixed air temp</th>\n",
       "      <th>heating coil discharger temp</th>\n",
       "      <th>Pre-heat valve %</th>\n",
       "      <th>re-heat coil valve 1 %</th>\n",
       "      <th>re-heat coil valve 2 %</th>\n",
       "      <th>re-heat coil 1 Discharger temp</th>\n",
       "      <th>re-heat coil 2 Discharger temp</th>\n",
       "    </tr>\n",
       "  </thead>\n",
       "  <tbody>\n",
       "    <tr>\n",
       "      <th>0</th>\n",
       "      <td>31-12-2015</td>\n",
       "      <td>00:00:00</td>\n",
       "      <td>OFF</td>\n",
       "      <td>1.9</td>\n",
       "      <td>74.5</td>\n",
       "      <td>ON</td>\n",
       "      <td>2.0</td>\n",
       "      <td>75.3</td>\n",
       "      <td>75.2</td>\n",
       "      <td>15.0</td>\n",
       "      <td>16.0</td>\n",
       "      <td>20.0</td>\n",
       "      <td>74.3</td>\n",
       "      <td>74.6</td>\n",
       "    </tr>\n",
       "    <tr>\n",
       "      <th>1</th>\n",
       "      <td>31-12-2015</td>\n",
       "      <td>00:09:49</td>\n",
       "      <td>OFF</td>\n",
       "      <td>1.9</td>\n",
       "      <td>74.5</td>\n",
       "      <td>ON</td>\n",
       "      <td>2.0</td>\n",
       "      <td>75.3</td>\n",
       "      <td>75.2</td>\n",
       "      <td>15.0</td>\n",
       "      <td>16.0</td>\n",
       "      <td>20.0</td>\n",
       "      <td>74.3</td>\n",
       "      <td>74.6</td>\n",
       "    </tr>\n",
       "    <tr>\n",
       "      <th>2</th>\n",
       "      <td>31-12-2015</td>\n",
       "      <td>00:10:03</td>\n",
       "      <td>OFF</td>\n",
       "      <td>1.9</td>\n",
       "      <td>74.5</td>\n",
       "      <td>ON</td>\n",
       "      <td>2.0</td>\n",
       "      <td>75.3</td>\n",
       "      <td>75.2</td>\n",
       "      <td>15.0</td>\n",
       "      <td>16.0</td>\n",
       "      <td>20.0</td>\n",
       "      <td>74.3</td>\n",
       "      <td>74.6</td>\n",
       "    </tr>\n",
       "    <tr>\n",
       "      <th>3</th>\n",
       "      <td>31-12-2015</td>\n",
       "      <td>00:10:28</td>\n",
       "      <td>OFF</td>\n",
       "      <td>1.9</td>\n",
       "      <td>74.5</td>\n",
       "      <td>ON</td>\n",
       "      <td>2.0</td>\n",
       "      <td>75.3</td>\n",
       "      <td>75.2</td>\n",
       "      <td>15.0</td>\n",
       "      <td>16.0</td>\n",
       "      <td>20.0</td>\n",
       "      <td>74.3</td>\n",
       "      <td>74.6</td>\n",
       "    </tr>\n",
       "    <tr>\n",
       "      <th>4</th>\n",
       "      <td>31-12-2015</td>\n",
       "      <td>00:10:52</td>\n",
       "      <td>OFF</td>\n",
       "      <td>1.9</td>\n",
       "      <td>74.5</td>\n",
       "      <td>ON</td>\n",
       "      <td>2.0</td>\n",
       "      <td>75.3</td>\n",
       "      <td>75.2</td>\n",
       "      <td>15.0</td>\n",
       "      <td>16.0</td>\n",
       "      <td>20.0</td>\n",
       "      <td>74.3</td>\n",
       "      <td>74.6</td>\n",
       "    </tr>\n",
       "  </tbody>\n",
       "</table>\n",
       "</div>"
      ],
      "text/plain": [
       "         Date      Time supply fan status  Cooling coil valve %  \\\n",
       "0  31-12-2015  00:00:00               OFF                   1.9   \n",
       "1  31-12-2015  00:09:49               OFF                   1.9   \n",
       "2  31-12-2015  00:10:03               OFF                   1.9   \n",
       "3  31-12-2015  00:10:28               OFF                   1.9   \n",
       "4  31-12-2015  00:10:52               OFF                   1.9   \n",
       "\n",
       "   Discharger temp exhaust fan status  Mixed air damper %  Mixed air temp  \\\n",
       "0             74.5                 ON                 2.0            75.3   \n",
       "1             74.5                 ON                 2.0            75.3   \n",
       "2             74.5                 ON                 2.0            75.3   \n",
       "3             74.5                 ON                 2.0            75.3   \n",
       "4             74.5                 ON                 2.0            75.3   \n",
       "\n",
       "   heating coil discharger temp  Pre-heat valve %  re-heat coil valve 1 %  \\\n",
       "0                          75.2              15.0                    16.0   \n",
       "1                          75.2              15.0                    16.0   \n",
       "2                          75.2              15.0                    16.0   \n",
       "3                          75.2              15.0                    16.0   \n",
       "4                          75.2              15.0                    16.0   \n",
       "\n",
       "   re-heat coil valve 2 %  re-heat coil 1 Discharger temp  \\\n",
       "0                    20.0                            74.3   \n",
       "1                    20.0                            74.3   \n",
       "2                    20.0                            74.3   \n",
       "3                    20.0                            74.3   \n",
       "4                    20.0                            74.3   \n",
       "\n",
       "   re-heat coil 2 Discharger temp  \n",
       "0                            74.6  \n",
       "1                            74.6  \n",
       "2                            74.6  \n",
       "3                            74.6  \n",
       "4                            74.6  "
      ]
     },
     "execution_count": 5,
     "metadata": {},
     "output_type": "execute_result"
    }
   ],
   "source": [
    "ahu02.head()"
   ]
  },
  {
   "cell_type": "code",
   "execution_count": null,
   "metadata": {
    "collapsed": false
   },
   "outputs": [],
   "source": []
  },
  {
   "cell_type": "code",
   "execution_count": 8,
   "metadata": {
    "collapsed": false,
    "scrolled": true
   },
   "outputs": [
    {
     "data": {
      "image/png": "[encoded data removed]",
      "text/plain": [
       "<matplotlib.figure.Figure at 0x96c8908>"
      ]
     },
     "metadata": {},
     "output_type": "display_data"
    }
   ],
   "source": [
    "data = [ahu02['Cooling coil valve %'],ahu02['Mixed air damper %'],ahu02['Pre-heat valve %'],\n",
    "        ahu02['re-heat coil valve 1 %'],ahu02['re-heat coil valve 2 %']]\n",
    "sup_on = ahu02[ahu02['supply fan status'].str.contains('ON')]\n",
    "sup_off = ahu02[ahu02['supply fan status'].str.contains('OFF')]\n",
    "data_percent_1 = [sup_on['Cooling coil valve %'],sup_on['Mixed air damper %'],sup_on['Pre-heat valve %'],\n",
    "                  sup_on['re-heat coil valve 1 %'], sup_on['re-heat coil valve 2 %']]\n",
    "data_percent_2 = [sup_off['Cooling coil valve %'],sup_off['Mixed air damper %'],sup_off['Pre-heat valve %'],\n",
    "                  sup_off['re-heat coil valve 1 %'], sup_off['re-heat coil valve 2 %']]\n",
    "f , (ax1,ax2,ax3) = plt.subplots(1,3,sharey=True)\n",
    "ax2.boxplot(data_percent_1)\n",
    "ax1.boxplot(data)\n",
    "ax3.boxplot(data_percent_2)\n",
    "ax1.set_title('Value')\n",
    "ax2.set_title('Value with Sup ON')\n",
    "ax3.set_title('Value with Sup OFF')\n",
    "#plt.show()\n",
    "plt.savefig(''.join(['values%','_ahu_02']))"
   ]
  },
  {
   "cell_type": "code",
   "execution_count": 18,
   "metadata": {
    "collapsed": false
   },
   "outputs": [],
   "source": [
    "\n",
    "#plt.show()\n"
   ]
  },
  {
   "cell_type": "code",
   "execution_count": 9,
   "metadata": {
    "collapsed": false
   },
   "outputs": [
    {
     "data": {
      "image/png": "[encoded data removed]",
      "text/plain": [
       "<matplotlib.figure.Figure at 0xced75f8>"
      ]
     },
     "metadata": {},
     "output_type": "display_data"
    }
   ],
   "source": [
    "data1 =[ahu02['Discharger temp'],ahu02['Mixed air temp'],ahu02['re-heat coil 1 Discharger temp'],\n",
    "        ahu02['re-heat coil 2 Discharger temp']]\n",
    "data_1 = [sup_on['Discharger temp'],sup_on['Mixed air temp'],sup_on['re-heat coil 1 Discharger temp'],\n",
    "        sup_on['re-heat coil 2 Discharger temp']]\n",
    "data_2 = [sup_off['Discharger temp'],sup_off['Mixed air temp'],sup_off['re-heat coil 1 Discharger temp'],\n",
    "        sup_off['re-heat coil 2 Discharger temp']]\n",
    "f,(ax1,ax2,ax3) = plt.subplots(1,3,sharey = True)\n",
    "ax2.boxplot(data_1)\n",
    "ax3.boxplot(data_2)\n",
    "ax1.boxplot(data1)\n",
    "ax1.set_title('temp')\n",
    "ax2.set_title('temp with sup ON')\n",
    "ax3.set_title('temp with sup OFF')\n",
    "#plt.show()\n",
    "plt.savefig(''.join(['temperature','_ahu_02']))"
   ]
  },
  {
   "cell_type": "code",
   "execution_count": 13,
   "metadata": {
    "collapsed": false
   },
   "outputs": [
    {
     "data": {
      "image/png": "[encoded data removed]",
      "text/plain": [
       "<matplotlib.figure.Figure at 0xcb82860>"
      ]
     },
     "metadata": {},
     "output_type": "display_data"
    }
   ],
   "source": [
    "data_temp_sup = [sup_on['Discharger temp'],sup_on['Mixed air temp'],sup_on['re-heat coil 1 Discharger temp'],sup_on['re-heat coil 2 Discharger temp']]\n",
    "plt.boxplot(data_temp_sup)\n",
    "#plt.show()\n",
    "plt.savefig(''.join(['temp_sup_on','_ahu02']))"
   ]
  },
  {
   "cell_type": "code",
   "execution_count": 8,
   "metadata": {
    "collapsed": false
   },
   "outputs": [
    {
     "name": "stdout",
     "output_type": "stream",
     "text": [
      "['Cooling coil valve %' 'Discharger temp' 'Mixed air damper %'\n",
      " 'Mixed air temp' 'heating coil discharger temp' 'Pre-heat valve %'\n",
      " 're-heat coil valve 1 %' 're-heat coil valve 2 %'\n",
      " 're-heat coil 1 Discharger temp' 're-heat coil 2 Discharger temp']\n"
     ]
    }
   ],
   "source": [
    "df1 = ahu02.copy()\n",
    "df1 = df1.drop(['Date','Time','supply fan status','exhaust fan status'],1)\n",
    "print df1.columns.values"
   ]
  },
  {
   "cell_type": "code",
   "execution_count": null,
   "metadata": {
    "collapsed": false
   },
   "outputs": [],
   "source": [
    "df = pd.scatter_matrix(df1, alpha = 0.2, figsize=(25,25),diagonal = 'kde')\n",
    "plt.savefig(''.join(['bivariate','ahu_10']))"
   ]
  },
  {
   "cell_type": "code",
   "execution_count": null,
   "metadata": {
    "collapsed": true
   },
   "outputs": [],
   "source": []
  }
 ],
 "metadata": {
  "kernelspec": {
   "display_name": "Python 2",
   "language": "python",
   "name": "python2"
  },
  "language_info": {
   "codemirror_mode": {
    "name": "ipython",
    "version": 2
   },
   "file_extension": ".py",
   "mimetype": "text/x-python",
   "name": "python",
   "nbconvert_exporter": "python",
   "pygments_lexer": "ipython2",
   "version": "2.7.12"
  }
 },
 "nbformat": 4,
 "nbformat_minor": 0
}
