{
 "cells": [
  {
   "cell_type": "code",
   "execution_count": 1,
   "metadata": {
    "collapsed": true
   },
   "outputs": [],
   "source": [
    "import pandas as pd\n",
    "import matplotlib.pyplot as plt\n",
    "%matplotlib inline"
   ]
  },
  {
   "cell_type": "code",
   "execution_count": 2,
   "metadata": {
    "collapsed": true
   },
   "outputs": [],
   "source": [
    "ahu01 = pd.read_csv('AHU_01.csv')\n",
    "ahu01 = ahu01.ffill()"
   ]
  },
  {
   "cell_type": "code",
   "execution_count": 3,
   "metadata": {
    "collapsed": false
   },
   "outputs": [
    {
     "data": {
      "text/html": [
       "<div>\n",
       "<table border=\"1\" class=\"dataframe\">\n",
       "  <thead>\n",
       "    <tr style=\"text-align: right;\">\n",
       "      <th></th>\n",
       "      <th>Column1</th>\n",
       "      <th>Column2</th>\n",
       "      <th>Column3</th>\n",
       "      <th>Column4</th>\n",
       "      <th>Column5</th>\n",
       "      <th>Column6</th>\n",
       "      <th>Column7</th>\n",
       "      <th>Column8</th>\n",
       "      <th>Column9</th>\n",
       "      <th>Column10</th>\n",
       "      <th>Column11</th>\n",
       "      <th>Column12</th>\n",
       "      <th>Column13</th>\n",
       "    </tr>\n",
       "  </thead>\n",
       "  <tbody>\n",
       "    <tr>\n",
       "      <th>0</th>\n",
       "      <td>31-12-2015</td>\n",
       "      <td>00:00:00</td>\n",
       "      <td>0.0</td>\n",
       "      <td>46.0</td>\n",
       "      <td>OFF</td>\n",
       "      <td>ON</td>\n",
       "      <td>OFF</td>\n",
       "      <td>8.1</td>\n",
       "      <td>50.0</td>\n",
       "      <td>0.0</td>\n",
       "      <td>ON</td>\n",
       "      <td>48.0</td>\n",
       "      <td>0.0</td>\n",
       "    </tr>\n",
       "    <tr>\n",
       "      <th>1</th>\n",
       "      <td>31-12-2015</td>\n",
       "      <td>00:00:00</td>\n",
       "      <td>0.0</td>\n",
       "      <td>44.3</td>\n",
       "      <td>OFF</td>\n",
       "      <td>ON</td>\n",
       "      <td>OFF</td>\n",
       "      <td>27.9</td>\n",
       "      <td>50.0</td>\n",
       "      <td>0.0</td>\n",
       "      <td>ON</td>\n",
       "      <td>47.4</td>\n",
       "      <td>0.0</td>\n",
       "    </tr>\n",
       "    <tr>\n",
       "      <th>2</th>\n",
       "      <td>31-12-2015</td>\n",
       "      <td>00:05:00</td>\n",
       "      <td>0.0</td>\n",
       "      <td>44.3</td>\n",
       "      <td>OFF</td>\n",
       "      <td>ON</td>\n",
       "      <td>OFF</td>\n",
       "      <td>27.9</td>\n",
       "      <td>50.0</td>\n",
       "      <td>0.0</td>\n",
       "      <td>ON</td>\n",
       "      <td>47.4</td>\n",
       "      <td>0.0</td>\n",
       "    </tr>\n",
       "    <tr>\n",
       "      <th>3</th>\n",
       "      <td>31-12-2015</td>\n",
       "      <td>00:10:00</td>\n",
       "      <td>0.0</td>\n",
       "      <td>44.3</td>\n",
       "      <td>OFF</td>\n",
       "      <td>ON</td>\n",
       "      <td>OFF</td>\n",
       "      <td>27.9</td>\n",
       "      <td>50.0</td>\n",
       "      <td>0.0</td>\n",
       "      <td>ON</td>\n",
       "      <td>47.4</td>\n",
       "      <td>0.0</td>\n",
       "    </tr>\n",
       "    <tr>\n",
       "      <th>4</th>\n",
       "      <td>31-12-2015</td>\n",
       "      <td>00:15:00</td>\n",
       "      <td>0.0</td>\n",
       "      <td>43.8</td>\n",
       "      <td>OFF</td>\n",
       "      <td>ON</td>\n",
       "      <td>OFF</td>\n",
       "      <td>44.5</td>\n",
       "      <td>50.0</td>\n",
       "      <td>0.0</td>\n",
       "      <td>ON</td>\n",
       "      <td>48.0</td>\n",
       "      <td>0.0</td>\n",
       "    </tr>\n",
       "  </tbody>\n",
       "</table>\n",
       "</div>"
      ],
      "text/plain": [
       "      Column1   Column2  Column3  Column4 Column5 Column6 Column7  Column8  \\\n",
       "0  31-12-2015  00:00:00      0.0     46.0     OFF      ON     OFF      8.1   \n",
       "1  31-12-2015  00:00:00      0.0     44.3     OFF      ON     OFF     27.9   \n",
       "2  31-12-2015  00:05:00      0.0     44.3     OFF      ON     OFF     27.9   \n",
       "3  31-12-2015  00:10:00      0.0     44.3     OFF      ON     OFF     27.9   \n",
       "4  31-12-2015  00:15:00      0.0     43.8     OFF      ON     OFF     44.5   \n",
       "\n",
       "   Column9  Column10 Column11  Column12  Column13  \n",
       "0     50.0       0.0       ON      48.0       0.0  \n",
       "1     50.0       0.0       ON      47.4       0.0  \n",
       "2     50.0       0.0       ON      47.4       0.0  \n",
       "3     50.0       0.0       ON      47.4       0.0  \n",
       "4     50.0       0.0       ON      48.0       0.0  "
      ]
     },
     "execution_count": 3,
     "metadata": {},
     "output_type": "execute_result"
    }
   ],
   "source": [
    "ahu01.head()"
   ]
  },
  {
   "cell_type": "code",
   "execution_count": 4,
   "metadata": {
    "collapsed": false
   },
   "outputs": [],
   "source": [
    "ahu01.rename(columns={'Column1': 'Date', 'Column2': 'Time', 'Column3':'Cooling coil %open', 'Column4' : 'Discharger temp'},inplace=True)\n",
    "ahu01.rename(columns={'Column5':'exhaust fan1', 'Column6': 'exhaust fan2', 'Column7': 'exhaust fan3'},inplace=True)\n",
    "ahu01.rename(columns={'Column8':'Face bypass damper', 'Column9':'Heating coil valve', 'Column10': 'Humidity valve'},inplace=True)\n",
    "ahu01.rename(columns={'Column11': 'Supply fan status','Column12': 'Heating coil discharger temp', 'Column13':'Supply fan %'},inplace=True)"
   ]
  },
  {
   "cell_type": "code",
   "execution_count": 5,
   "metadata": {
    "collapsed": false
   },
   "outputs": [
    {
     "data": {
      "text/html": [
       "<div>\n",
       "<table border=\"1\" class=\"dataframe\">\n",
       "  <thead>\n",
       "    <tr style=\"text-align: right;\">\n",
       "      <th></th>\n",
       "      <th>Date</th>\n",
       "      <th>Time</th>\n",
       "      <th>Cooling coil %open</th>\n",
       "      <th>Discharger temp</th>\n",
       "      <th>exhaust fan1</th>\n",
       "      <th>exhaust fan2</th>\n",
       "      <th>exhaust fan3</th>\n",
       "      <th>Face bypass damper</th>\n",
       "      <th>Heating coil valve</th>\n",
       "      <th>Humidity valve</th>\n",
       "      <th>Supply fan status</th>\n",
       "      <th>Heating coil discharger temp</th>\n",
       "      <th>Supply fan %</th>\n",
       "    </tr>\n",
       "  </thead>\n",
       "  <tbody>\n",
       "    <tr>\n",
       "      <th>0</th>\n",
       "      <td>31-12-2015</td>\n",
       "      <td>00:00:00</td>\n",
       "      <td>0.0</td>\n",
       "      <td>46.0</td>\n",
       "      <td>OFF</td>\n",
       "      <td>ON</td>\n",
       "      <td>OFF</td>\n",
       "      <td>8.1</td>\n",
       "      <td>50.0</td>\n",
       "      <td>0.0</td>\n",
       "      <td>ON</td>\n",
       "      <td>48.0</td>\n",
       "      <td>0.0</td>\n",
       "    </tr>\n",
       "    <tr>\n",
       "      <th>1</th>\n",
       "      <td>31-12-2015</td>\n",
       "      <td>00:00:00</td>\n",
       "      <td>0.0</td>\n",
       "      <td>44.3</td>\n",
       "      <td>OFF</td>\n",
       "      <td>ON</td>\n",
       "      <td>OFF</td>\n",
       "      <td>27.9</td>\n",
       "      <td>50.0</td>\n",
       "      <td>0.0</td>\n",
       "      <td>ON</td>\n",
       "      <td>47.4</td>\n",
       "      <td>0.0</td>\n",
       "    </tr>\n",
       "    <tr>\n",
       "      <th>2</th>\n",
       "      <td>31-12-2015</td>\n",
       "      <td>00:05:00</td>\n",
       "      <td>0.0</td>\n",
       "      <td>44.3</td>\n",
       "      <td>OFF</td>\n",
       "      <td>ON</td>\n",
       "      <td>OFF</td>\n",
       "      <td>27.9</td>\n",
       "      <td>50.0</td>\n",
       "      <td>0.0</td>\n",
       "      <td>ON</td>\n",
       "      <td>47.4</td>\n",
       "      <td>0.0</td>\n",
       "    </tr>\n",
       "    <tr>\n",
       "      <th>3</th>\n",
       "      <td>31-12-2015</td>\n",
       "      <td>00:10:00</td>\n",
       "      <td>0.0</td>\n",
       "      <td>44.3</td>\n",
       "      <td>OFF</td>\n",
       "      <td>ON</td>\n",
       "      <td>OFF</td>\n",
       "      <td>27.9</td>\n",
       "      <td>50.0</td>\n",
       "      <td>0.0</td>\n",
       "      <td>ON</td>\n",
       "      <td>47.4</td>\n",
       "      <td>0.0</td>\n",
       "    </tr>\n",
       "    <tr>\n",
       "      <th>4</th>\n",
       "      <td>31-12-2015</td>\n",
       "      <td>00:15:00</td>\n",
       "      <td>0.0</td>\n",
       "      <td>43.8</td>\n",
       "      <td>OFF</td>\n",
       "      <td>ON</td>\n",
       "      <td>OFF</td>\n",
       "      <td>44.5</td>\n",
       "      <td>50.0</td>\n",
       "      <td>0.0</td>\n",
       "      <td>ON</td>\n",
       "      <td>48.0</td>\n",
       "      <td>0.0</td>\n",
       "    </tr>\n",
       "  </tbody>\n",
       "</table>\n",
       "</div>"
      ],
      "text/plain": [
       "         Date      Time  Cooling coil %open  Discharger temp exhaust fan1  \\\n",
       "0  31-12-2015  00:00:00                 0.0             46.0          OFF   \n",
       "1  31-12-2015  00:00:00                 0.0             44.3          OFF   \n",
       "2  31-12-2015  00:05:00                 0.0             44.3          OFF   \n",
       "3  31-12-2015  00:10:00                 0.0             44.3          OFF   \n",
       "4  31-12-2015  00:15:00                 0.0             43.8          OFF   \n",
       "\n",
       "  exhaust fan2 exhaust fan3  Face bypass damper  Heating coil valve  \\\n",
       "0           ON          OFF                 8.1                50.0   \n",
       "1           ON          OFF                27.9                50.0   \n",
       "2           ON          OFF                27.9                50.0   \n",
       "3           ON          OFF                27.9                50.0   \n",
       "4           ON          OFF                44.5                50.0   \n",
       "\n",
       "   Humidity valve Supply fan status  Heating coil discharger temp  \\\n",
       "0             0.0                ON                          48.0   \n",
       "1             0.0                ON                          47.4   \n",
       "2             0.0                ON                          47.4   \n",
       "3             0.0                ON                          47.4   \n",
       "4             0.0                ON                          48.0   \n",
       "\n",
       "   Supply fan %  \n",
       "0           0.0  \n",
       "1           0.0  \n",
       "2           0.0  \n",
       "3           0.0  \n",
       "4           0.0  "
      ]
     },
     "execution_count": 5,
     "metadata": {},
     "output_type": "execute_result"
    }
   ],
   "source": [
    "ahu01.head()"
   ]
  },
  {
   "cell_type": "code",
   "execution_count": 7,
   "metadata": {
    "collapsed": false
   },
   "outputs": [
    {
     "data": {
      "image/png": "[encoded data removed]",
      "text/plain": [
       "<matplotlib.figure.Figure at 0x6e4cc18>"
      ]
     },
     "metadata": {},
     "output_type": "display_data"
    }
   ],
   "source": [
    "data_percent = [ahu01['Cooling coil %open'], ahu01['Face bypass damper'], ahu01['Supply fan %'], \n",
    "                ahu01['Heating coil valve'], ahu01['Humidity valve']]\n",
    "sup_on = ahu01[ahu01['Supply fan status'].str.contains('ON')]\n",
    "sup_off = ahu01[ahu01['Supply fan status'].str.contains('OFF')]\n",
    "data_percent_1 = [sup_on['Cooling coil %open'],sup_on['Face bypass damper'],sup_on['Supply fan %'],\n",
    "                  sup_on['Heating coil valve'], sup_on['Humidity valve']]\n",
    "data_percent_2 = [sup_off['Cooling coil %open'],sup_off['Face bypass damper'],sup_off['Supply fan %'],\n",
    "                  sup_off['Heating coil valve'], sup_off['Humidity valve']]\n",
    "f, (ax1,ax2,ax3) = plt.subplots(1,3,sharey=True)\n",
    "ax1.boxplot(data_percent)\n",
    "ax2.boxplot(data_percent_1)\n",
    "ax3.boxplot(data_percent_2)\n",
    "ax1.set_title('values')\n",
    "ax2.set_title('values with supply ON')\n",
    "ax3.set_title('values with supply OFF')\n",
    "#plt.show()\n",
    "plt.savefig(''.join(['values%','_ahu_01']))\n"
   ]
  },
  {
   "cell_type": "code",
   "execution_count": 59,
   "metadata": {
    "collapsed": false
   },
   "outputs": [
    {
     "data": {
      "image/png": "[encoded data removed]",
      "text/plain": [
       "<matplotlib.figure.Figure at 0x104a8e10>"
      ]
     },
     "metadata": {},
     "output_type": "display_data"
    }
   ],
   "source": [
    "\n",
    "plt.boxplot(data_percent_1)\n",
    "#plt.show()\n",
    "plt.savefig(''.join(['value_sup_on','ahu_01']))"
   ]
  },
  {
   "cell_type": "code",
   "execution_count": 8,
   "metadata": {
    "collapsed": false
   },
   "outputs": [
    {
     "data": {
      "image/png": "[encoded data removed]",
      "text/plain": [
       "<matplotlib.figure.Figure at 0xcdcdf98>"
      ]
     },
     "metadata": {},
     "output_type": "display_data"
    }
   ],
   "source": [
    "data_temp = [ahu01['Discharger temp'], ahu01['Heating coil discharger temp']]\n",
    "data_temp_1 = [sup_on['Discharger temp'],sup_on['Heating coil discharger temp']]\n",
    "data_temp_2 = [sup_off['Discharger temp'],sup_off['Heating coil discharger temp']]\n",
    "f,(ax1,ax2,ax3) = plt.subplots(1,3,sharey=True)\n",
    "ax1.boxplot(data_temp)\n",
    "ax2.boxplot(data_temp_1)\n",
    "ax3.boxplot(data_temp_2)\n",
    "ax1.set_title('temp')\n",
    "ax2.set_title('temp with supply ON')\n",
    "ax3.set_title('temp with supply OFF')\n",
    "#plt.show()\n",
    "plt.savefig(''.join(['temperature','_ahu_01']))"
   ]
  },
  {
   "cell_type": "code",
   "execution_count": null,
   "metadata": {
    "collapsed": false
   },
   "outputs": [],
   "source": [
    "data_temp_sup = [sup_on['Discharger temp'],sup_on['Heating coil discharger temp']]\n",
    "plt.boxplot(data_temp_sup)\n",
    "#plt.show()\n",
    "plt.savefig(''.join(['temp_sup_on','_ahu01']))"
   ]
  },
  {
   "cell_type": "code",
   "execution_count": 10,
   "metadata": {
    "collapsed": false
   },
   "outputs": [
    {
     "name": "stdout",
     "output_type": "stream",
     "text": [
      "['Date' 'Time' 'Cooling coil %open' 'Discharger temp' 'exhaust fan1'\n",
      " 'exhaust fan2' 'exhaust fan3' 'Face bypass damper' 'Heating coil valve'\n",
      " 'Humidity valve' 'Supply fan status' 'Heating coil discharger temp'\n",
      " 'Supply fan %']\n",
      "['Cooling coil %open' 'Discharger temp' 'Heating coil valve'\n",
      " 'Humidity valve' 'Heating coil discharger temp' 'Supply fan %']\n"
     ]
    }
   ],
   "source": [
    "df1 = ahu01.copy()\n",
    "print ahu01.columns.values\n",
    "df1 = df1.drop(['Date','Time', 'exhaust fan1','exhaust fan2','exhaust fan3','Supply fan status','Face bypass damper' ],1)\n",
    "print df1.columns.values"
   ]
  },
  {
   "cell_type": "code",
   "execution_count": null,
   "metadata": {
    "collapsed": false
   },
   "outputs": [],
   "source": [
    "df = pd.scatter_matrix(df1, alpha = 0.2, figsize = (25,25), diagonal = 'kde')\n",
    "#df.plot()\n",
    "plt.savefig(''.join(['bivariate','_ahu_01']))"
   ]
  },
  {
   "cell_type": "code",
   "execution_count": null,
   "metadata": {
    "collapsed": true
   },
   "outputs": [],
   "source": []
  }
 ],
 "metadata": {
  "kernelspec": {
   "display_name": "Python 2",
   "language": "python",
   "name": "python2"
  },
  "language_info": {
   "codemirror_mode": {
    "name": "ipython",
    "version": 2
   },
   "file_extension": ".py",
   "mimetype": "text/x-python",
   "name": "python",
   "nbconvert_exporter": "python",
   "pygments_lexer": "ipython2",
   "version": "2.7.12"
  }
 },
 "nbformat": 4,
 "nbformat_minor": 0
}
